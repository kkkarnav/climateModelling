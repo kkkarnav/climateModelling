{
 "cells": [
  {
   "cell_type": "code",
   "execution_count": 2,
   "metadata": {},
   "outputs": [],
   "source": [
    "import matplotlib.pyplot as plt\n",
    "import geopandas as gpd\n",
    "import ipywidgets as widgets\n",
    "from ipywidgets import interact\n",
    "import pandas as pd\n",
    "\n",
    "# Function to plot temperature data for a given day and column\n",
    "def plot_temperature_for_day(grid_gdf, india, day, column):\n",
    "    day_data = grid_gdf[grid_gdf['date'] == day]\n",
    "    \n",
    "    fig, ax = plt.subplots(figsize=(5, 4))\n",
    "\n",
    "    india.boundary.plot(ax=ax)\n",
    "    day_data.plot(column=column, ax=ax, legend=True, cmap='coolwarm', markersize=10)\n",
    "    ax.set_title(f'{column.replace(\"_\", \" \").title()} on {day}')\n",
    "\n",
    "    plt.tight_layout()\n",
    "    plt.show()\n",
    "\n",
    "def create_temperature_slider(grid_gdf, india, column):\n",
    "    days = sorted(grid_gdf['date'].unique())\n",
    "    \n",
    "    slider = widgets.SelectionSlider(\n",
    "        options=days,\n",
    "        description='Day',\n",
    "        orientation='horizontal',\n",
    "        layout={'width': '800px'}\n",
    "    )\n",
    "    \n",
    "    @interact(day=slider)\n",
    "    def update(day):\n",
    "        plot_temperature_for_day(grid_gdf, india, day, column)\n",
    "\n",
    "# Function to create an HTML slider for visualizing temperature plots over different days\n",
    "def create_temperature_dropdown(grid_gdf, india, column):\n",
    "    days = sorted(grid_gdf['date'].unique())\n",
    "    \n",
    "    @interact(day=days)\n",
    "    def update(day):\n",
    "        plot_temperature_for_day(grid_gdf, india, day, column)\n",
    "\n",
    "    return interact(update, day=days)\n",
    "\n",
    "# Load India boundary data\n",
    "india = gpd.read_file(gpd.datasets.get_path('naturalearth_lowres'))\n",
    "india = india[india.name == \"India\"]\n",
    "\n",
    "results_df = pd.read_csv(\"../evt/daily_data.csv\")\n",
    "geometry = gpd.points_from_xy(results_df['lon'], results_df['lat'])\n",
    "grid_gdf = gpd.GeoDataFrame(results_df, geometry=geometry)"
   ]
  },
  {
   "cell_type": "code",
   "execution_count": 3,
   "metadata": {},
   "outputs": [
    {
     "data": {
      "application/vnd.jupyter.widget-view+json": {
       "model_id": "e71bf128184049e7964ca6f2fb99a541",
       "version_major": 2,
       "version_minor": 0
      },
      "text/plain": [
       "interactive(children=(SelectionSlider(description='Day', layout=Layout(width='800px'), options=('2020-01-01', …"
      ]
     },
     "metadata": {},
     "output_type": "display_data"
    }
   ],
   "source": [
    "create_temperature_slider(grid_gdf, india, 'tmax')"
   ]
  },
  {
   "cell_type": "code",
   "execution_count": 4,
   "metadata": {},
   "outputs": [
    {
     "data": {
      "application/vnd.jupyter.widget-view+json": {
       "model_id": "59702e39d31647dc89ea2d6aa4e2f6bd",
       "version_major": 2,
       "version_minor": 0
      },
      "text/plain": [
       "interactive(children=(SelectionSlider(description='Day', layout=Layout(width='800px'), options=('2020-01-01', …"
      ]
     },
     "metadata": {},
     "output_type": "display_data"
    }
   ],
   "source": [
    "create_temperature_slider(grid_gdf, india, 'tmin')"
   ]
  },
  {
   "cell_type": "code",
   "execution_count": 5,
   "metadata": {},
   "outputs": [
    {
     "data": {
      "application/vnd.jupyter.widget-view+json": {
       "model_id": "8ee1256aaffb4b3f897c62bbfd42a5f2",
       "version_major": 2,
       "version_minor": 0
      },
      "text/plain": [
       "interactive(children=(SelectionSlider(description='Day', layout=Layout(width='800px'), options=('2020-01-01', …"
      ]
     },
     "metadata": {},
     "output_type": "display_data"
    }
   ],
   "source": [
    "create_temperature_slider(grid_gdf, india, 'tmean')"
   ]
  },
  {
   "cell_type": "code",
   "execution_count": null,
   "metadata": {},
   "outputs": [],
   "source": []
  }
 ],
 "metadata": {
  "kernelspec": {
   "display_name": "base",
   "language": "python",
   "name": "python3"
  },
  "language_info": {
   "codemirror_mode": {
    "name": "ipython",
    "version": 3
   },
   "file_extension": ".py",
   "mimetype": "text/x-python",
   "name": "python",
   "nbconvert_exporter": "python",
   "pygments_lexer": "ipython3",
   "version": "3.9.13"
  }
 },
 "nbformat": 4,
 "nbformat_minor": 2
}
